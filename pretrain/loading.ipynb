{
 "cells": [
  {
   "cell_type": "code",
   "execution_count": 1,
   "id": "c47bd03b",
   "metadata": {
    "ExecuteTime": {
     "end_time": "2023-03-08T21:45:29.546367Z",
     "start_time": "2023-03-08T21:45:29.543834Z"
    }
   },
   "outputs": [],
   "source": [
    "import os\n",
    "os.chdir('../')"
   ]
  },
  {
   "cell_type": "code",
   "execution_count": 2,
   "id": "f6589a52",
   "metadata": {
    "ExecuteTime": {
     "end_time": "2023-03-08T21:45:31.457308Z",
     "start_time": "2023-03-08T21:45:29.548254Z"
    }
   },
   "outputs": [
    {
     "name": "stderr",
     "output_type": "stream",
     "text": [
      "/cis/home/kchan49/anaconda3/envs/mcr2/lib/python3.8/site-packages/tqdm/auto.py:22: TqdmWarning: IProgress not found. Please update jupyter and ipywidgets. See https://ipywidgets.readthedocs.io/en/stable/user_install.html\n",
      "  from .autonotebook import tqdm as notebook_tqdm\n"
     ]
    }
   ],
   "source": [
    "import torch\n",
    "import torch.nn as nn"
   ]
  },
  {
   "cell_type": "markdown",
   "id": "b56d3a57",
   "metadata": {
    "ExecuteTime": {
     "end_time": "2023-03-08T04:37:15.872533Z",
     "start_time": "2023-03-08T04:37:15.870097Z"
    }
   },
   "source": [
    "## HuffingtonNews"
   ]
  },
  {
   "cell_type": "code",
   "execution_count": 3,
   "id": "c4afa30a",
   "metadata": {
    "ExecuteTime": {
     "end_time": "2023-03-08T21:45:31.582395Z",
     "start_time": "2023-03-08T21:45:31.459352Z"
    }
   },
   "outputs": [
    {
     "data": {
      "text/plain": [
       "<All keys matched successfully>"
      ]
     },
     "execution_count": 3,
     "metadata": {},
     "output_type": "execute_result"
    }
   ],
   "source": [
    "from arch.news import NetworkNews\n",
    "ckpt = torch.load('./pretrain/news.pth', map_location='cpu')\n",
    "\n",
    "classifier = NetworkNews(query_size = 1000, output_size=10, eps=None)\n",
    "classifier = nn.DataParallel(classifier)\n",
    "classifier.load_state_dict(ckpt['classifier'])\n",
    "\n",
    "querier = NetworkNews(query_size = 1000, output_size=1000, eps=0.2)\n",
    "querier = nn.DataParallel(querier)\n",
    "querier.load_state_dict(ckpt['querier'])"
   ]
  },
  {
   "cell_type": "markdown",
   "id": "a7ae32b1",
   "metadata": {},
   "source": [
    "## CUB200"
   ]
  },
  {
   "cell_type": "code",
   "execution_count": 4,
   "id": "4db25091",
   "metadata": {
    "ExecuteTime": {
     "end_time": "2023-03-08T21:45:35.729517Z",
     "start_time": "2023-03-08T21:45:31.585627Z"
    }
   },
   "outputs": [
    {
     "data": {
      "text/plain": [
       "<All keys matched successfully>"
      ]
     },
     "execution_count": 4,
     "metadata": {},
     "output_type": "execute_result"
    }
   ],
   "source": [
    "from arch.cub import NetworkCUB, CUBConceptModel\n",
    "ckpt = torch.load('./pretrain/cub.pth', map_location='cpu')\n",
    "\n",
    "concept_net = CUBConceptModel.load_from_checkpoint('./pretrain/cub_concept.pth')\n",
    "\n",
    "classifier = NetworkCUB(query_size=312, output_size=200, eps=None)\n",
    "classifier = nn.DataParallel(classifier)\n",
    "classifier.load_state_dict(ckpt['classifier'])\n",
    "\n",
    "querier = NetworkCUB(query_size=312, output_size=312, eps=0.2)\n",
    "querier = nn.DataParallel(querier)\n",
    "querier.load_state_dict(ckpt['querier'])"
   ]
  },
  {
   "cell_type": "markdown",
   "id": "147b747c",
   "metadata": {},
   "source": [
    "## CIFAR10"
   ]
  },
  {
   "cell_type": "code",
   "execution_count": 5,
   "id": "85d981b2",
   "metadata": {
    "ExecuteTime": {
     "end_time": "2023-03-08T21:45:36.113280Z",
     "start_time": "2023-03-08T21:45:35.731733Z"
    }
   },
   "outputs": [
    {
     "data": {
      "text/plain": [
       "<All keys matched successfully>"
      ]
     },
     "execution_count": 5,
     "metadata": {},
     "output_type": "execute_result"
    }
   ],
   "source": [
    "from arch.cifar10 import DLA\n",
    "ckpt = torch.load('./pretrain/cifar10.pth', map_location='cpu')\n",
    "\n",
    "classifier = DLA(num_classes=10)\n",
    "classifier = nn.DataParallel(classifier)\n",
    "classifier.load_state_dict(ckpt['classifier'])\n",
    "\n",
    "querier = DLA(num_classes=49, tau=0.2, resize_conv=True)\n",
    "querier = nn.DataParallel(querier)\n",
    "querier.load_state_dict(ckpt['querier'])"
   ]
  },
  {
   "cell_type": "markdown",
   "id": "cf8e6fa7",
   "metadata": {},
   "source": [
    "## MNIST/KMNIST/FashionMNIST"
   ]
  },
  {
   "cell_type": "code",
   "execution_count": 6,
   "id": "59f29b3d",
   "metadata": {
    "ExecuteTime": {
     "end_time": "2023-03-08T21:45:36.120194Z",
     "start_time": "2023-03-08T21:45:36.115577Z"
    }
   },
   "outputs": [],
   "source": [
    "from arch.mnist import ClassifierMNIST, QuerierMNIST"
   ]
  },
  {
   "cell_type": "code",
   "execution_count": 7,
   "id": "bc9786df",
   "metadata": {
    "ExecuteTime": {
     "end_time": "2023-03-08T21:45:36.214412Z",
     "start_time": "2023-03-08T21:45:36.124187Z"
    }
   },
   "outputs": [
    {
     "data": {
      "text/plain": [
       "<All keys matched successfully>"
      ]
     },
     "execution_count": 7,
     "metadata": {},
     "output_type": "execute_result"
    }
   ],
   "source": [
    "# MNIST\n",
    "ckpt = torch.load('./pretrain/mnist.pth', map_location='cpu')\n",
    "\n",
    "classifier = ClassifierMNIST()\n",
    "classifier = nn.DataParallel(classifier)\n",
    "classifier.load_state_dict(ckpt['classifier'])\n",
    "\n",
    "querier = QuerierMNIST(num_classes=676, tau=0.2)\n",
    "querier = nn.DataParallel(querier)\n",
    "querier.load_state_dict(ckpt['querier'])"
   ]
  },
  {
   "cell_type": "code",
   "execution_count": 8,
   "id": "b56a2bbf",
   "metadata": {
    "ExecuteTime": {
     "end_time": "2023-03-08T21:45:36.265236Z",
     "start_time": "2023-03-08T21:45:36.217062Z"
    }
   },
   "outputs": [
    {
     "data": {
      "text/plain": [
       "<All keys matched successfully>"
      ]
     },
     "execution_count": 8,
     "metadata": {},
     "output_type": "execute_result"
    }
   ],
   "source": [
    "# Fashion MNIST\n",
    "ckpt = torch.load('./pretrain/fashion_mnist.pth', map_location='cpu')\n",
    "\n",
    "classifier = ClassifierMNIST()\n",
    "classifier = nn.DataParallel(classifier)\n",
    "classifier.load_state_dict(ckpt['classifier'])\n",
    "\n",
    "querier = QuerierMNIST(num_classes=676, tau=0.2)\n",
    "querier = nn.DataParallel(querier)\n",
    "querier.load_state_dict(ckpt['querier'])"
   ]
  },
  {
   "cell_type": "code",
   "execution_count": 9,
   "id": "fc9fd6b1",
   "metadata": {
    "ExecuteTime": {
     "end_time": "2023-03-08T21:45:36.314057Z",
     "start_time": "2023-03-08T21:45:36.267221Z"
    }
   },
   "outputs": [
    {
     "data": {
      "text/plain": [
       "<All keys matched successfully>"
      ]
     },
     "execution_count": 9,
     "metadata": {},
     "output_type": "execute_result"
    }
   ],
   "source": [
    "# KMNIST\n",
    "ckpt = torch.load('./pretrain/kmnist.pth', map_location='cpu')\n",
    "\n",
    "classifier = ClassifierMNIST()\n",
    "classifier = nn.DataParallel(classifier)\n",
    "classifier.load_state_dict(ckpt['classifier'])\n",
    "\n",
    "querier = QuerierMNIST(num_classes=676, tau=0.2)\n",
    "querier = nn.DataParallel(querier)\n",
    "querier.load_state_dict(ckpt['querier'])"
   ]
  },
  {
   "cell_type": "markdown",
   "id": "4c7688e4",
   "metadata": {},
   "source": [
    "## SymCAT200/300/400"
   ]
  },
  {
   "cell_type": "code",
   "execution_count": 10,
   "id": "615a1ba9",
   "metadata": {
    "ExecuteTime": {
     "end_time": "2023-03-08T21:45:36.320203Z",
     "start_time": "2023-03-08T21:45:36.316096Z"
    }
   },
   "outputs": [],
   "source": [
    "from arch.symcat import NetworkSymCAT"
   ]
  },
  {
   "cell_type": "code",
   "execution_count": 11,
   "id": "8e7d13b7",
   "metadata": {
    "ExecuteTime": {
     "end_time": "2023-03-08T21:45:36.352500Z",
     "start_time": "2023-03-08T21:45:36.322321Z"
    }
   },
   "outputs": [
    {
     "data": {
      "text/plain": [
       "<All keys matched successfully>"
      ]
     },
     "execution_count": 11,
     "metadata": {},
     "output_type": "execute_result"
    }
   ],
   "source": [
    "# SymCAT200\n",
    "ckpt = torch.load('./pretrain/symcat200.pth', map_location='cpu')\n",
    "net = NetworkSymCAT(K=100, query_size=376, position_embedding_dim=400, output_dim=200, eps=0.2)\n",
    "net.load_state_dict(ckpt)"
   ]
  },
  {
   "cell_type": "code",
   "execution_count": 12,
   "id": "54910b52",
   "metadata": {
    "ExecuteTime": {
     "end_time": "2023-03-08T21:45:36.384821Z",
     "start_time": "2023-03-08T21:45:36.354871Z"
    }
   },
   "outputs": [
    {
     "data": {
      "text/plain": [
       "<All keys matched successfully>"
      ]
     },
     "execution_count": 12,
     "metadata": {},
     "output_type": "execute_result"
    }
   ],
   "source": [
    "# SymCAT300\n",
    "ckpt = torch.load('./pretrain/symcat300.pth', map_location='cpu')\n",
    "net = NetworkSymCAT(K=100, query_size=376, position_embedding_dim=400, output_dim=300, eps=0.2)\n",
    "net.load_state_dict(ckpt)"
   ]
  },
  {
   "cell_type": "code",
   "execution_count": 13,
   "id": "63c3ea55",
   "metadata": {
    "ExecuteTime": {
     "end_time": "2023-03-08T21:45:36.415411Z",
     "start_time": "2023-03-08T21:45:36.387740Z"
    }
   },
   "outputs": [
    {
     "data": {
      "text/plain": [
       "<All keys matched successfully>"
      ]
     },
     "execution_count": 13,
     "metadata": {},
     "output_type": "execute_result"
    }
   ],
   "source": [
    "# SymCAT400\n",
    "ckpt = torch.load('./pretrain/symcat400.pth', map_location='cpu')\n",
    "net = NetworkSymCAT(K=100, query_size=376, position_embedding_dim=400, output_dim=400, eps=0.2)\n",
    "net.load_state_dict(ckpt)"
   ]
  }
 ],
 "metadata": {
  "kernelspec": {
   "display_name": "mcr2",
   "language": "python",
   "name": "mcr2"
  },
  "language_info": {
   "codemirror_mode": {
    "name": "ipython",
    "version": 3
   },
   "file_extension": ".py",
   "mimetype": "text/x-python",
   "name": "python",
   "nbconvert_exporter": "python",
   "pygments_lexer": "ipython3",
   "version": "3.8.13"
  },
  "latex_envs": {
   "LaTeX_envs_menu_present": true,
   "autoclose": false,
   "autocomplete": true,
   "bibliofile": "biblio.bib",
   "cite_by": "apalike",
   "current_citInitial": 1,
   "eqLabelWithNumbers": true,
   "eqNumInitial": 1,
   "hotkeys": {
    "equation": "Ctrl-E",
    "itemize": "Ctrl-I"
   },
   "labels_anchors": false,
   "latex_user_defs": false,
   "report_style_numbering": false,
   "user_envs_cfg": false
  }
 },
 "nbformat": 4,
 "nbformat_minor": 5
}
